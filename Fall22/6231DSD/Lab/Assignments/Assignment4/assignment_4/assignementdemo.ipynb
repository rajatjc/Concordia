{
 "cells": [
  {
   "cell_type": "code",
   "execution_count": 3,
   "metadata": {
    "collapsed": true
   },
   "outputs": [
    {
     "name": "stdout",
     "output_type": "stream",
     "text": [
      "Defaulting to user installation because normal site-packages is not writeable\r\n",
      "Requirement already satisfied: pyspark in /usr/local/lib/python3.10/dist-packages (3.3.1)\r\n",
      "Requirement already satisfied: py4j in /usr/local/lib/python3.10/dist-packages (0.10.9.5)\r\n"
     ]
    }
   ],
   "source": [
    "!pip install pyspark py4j"
   ]
  },
  {
   "cell_type": "code",
   "execution_count": 4,
   "outputs": [
    {
     "name": "stdout",
     "output_type": "stream",
     "text": [
      "22/11/30 02:59:35 WARN Utils: Your hostname, rajat resolves to a loopback address: 127.0.0.1; using 10.0.0.120 instead (on interface wlp3s0)\n",
      "22/11/30 02:59:35 WARN Utils: Set SPARK_LOCAL_IP if you need to bind to another address\n"
     ]
    },
    {
     "name": "stderr",
     "output_type": "stream",
     "text": [
      "Setting default log level to \"WARN\".\n",
      "To adjust logging level use sc.setLogLevel(newLevel). For SparkR, use setLogLevel(newLevel).\n"
     ]
    },
    {
     "name": "stdout",
     "output_type": "stream",
     "text": [
      "22/11/30 02:59:35 WARN NativeCodeLoader: Unable to load native-hadoop library for your platform... using builtin-java classes where applicable\n"
     ]
    }
   ],
   "source": [
    "\n",
    "\n",
    "from pyspark import RDD, SparkContext\n",
    "from pyspark.sql import DataFrame, SparkSession\n",
    "\n",
    "\n",
    "sc = SparkContext('local[*]')\n",
    "spark = SparkSession.builder.getOrCreate()"
   ],
   "metadata": {
    "collapsed": false
   }
  },
  {
   "cell_type": "code",
   "execution_count": 5,
   "outputs": [
    {
     "name": "stderr",
     "output_type": "stream",
     "text": [
      "                                                                                \r"
     ]
    }
   ],
   "source": [
    "flights = spark.read.csv('Combined_Flights_2021.csv', header=True, inferSchema=True)"
   ],
   "metadata": {
    "collapsed": false
   }
  },
  {
   "cell_type": "code",
   "execution_count": 6,
   "outputs": [
    {
     "name": "stdout",
     "output_type": "stream",
     "text": [
      "22/11/30 03:00:03 WARN package: Truncated the string representation of a plan since it was too large. This behavior can be adjusted by setting 'spark.sql.debug.maxToStringFields'.\n",
      "+-------------------+--------------------+------+----+---------+--------+----------+-------+---------------+--------+-------+---------------+-------+--------------+-----------------+--------+----+-------+-----+----------+---------+-------------------------+---------------------------------------+------------------------+---------------------------+-------------------------------+-----------------+------------------------+---------------------------+-----------+-------------------------------+---------------+------------------+------------------+--------------------+-----------+---------------+---------------+---------+-------------+----------------+----------------+--------------------+---------+-------------+-------------+-------+--------+--------------------+----------+-------+---------+--------+------+----------+--------+--------+------------------+----------+-------------+------------------+\n",
      "|         FlightDate|             Airline|Origin|Dest|Cancelled|Diverted|CRSDepTime|DepTime|DepDelayMinutes|DepDelay|ArrTime|ArrDelayMinutes|AirTime|CRSElapsedTime|ActualElapsedTime|Distance|Year|Quarter|Month|DayofMonth|DayOfWeek|Marketing_Airline_Network|Operated_or_Branded_Code_Share_Partners|DOT_ID_Marketing_Airline|IATA_Code_Marketing_Airline|Flight_Number_Marketing_Airline|Operating_Airline|DOT_ID_Operating_Airline|IATA_Code_Operating_Airline|Tail_Number|Flight_Number_Operating_Airline|OriginAirportID|OriginAirportSeqID|OriginCityMarketID|      OriginCityName|OriginState|OriginStateFips|OriginStateName|OriginWac|DestAirportID|DestAirportSeqID|DestCityMarketID|        DestCityName|DestState|DestStateFips|DestStateName|DestWac|DepDel15|DepartureDelayGroups|DepTimeBlk|TaxiOut|WheelsOff|WheelsOn|TaxiIn|CRSArrTime|ArrDelay|ArrDel15|ArrivalDelayGroups|ArrTimeBlk|DistanceGroup|DivAirportLandings|\n",
      "+-------------------+--------------------+------+----+---------+--------+----------+-------+---------------+--------+-------+---------------+-------+--------------+-----------------+--------+----+-------+-----+----------+---------+-------------------------+---------------------------------------+------------------------+---------------------------+-------------------------------+-----------------+------------------------+---------------------------+-----------+-------------------------------+---------------+------------------+------------------+--------------------+-----------+---------------+---------------+---------+-------------+----------------+----------------+--------------------+---------+-------------+-------------+-------+--------+--------------------+----------+-------+---------+--------+------+----------+--------+--------+------------------+----------+-------------+------------------+\n",
      "|2021-03-03 00:00:00|SkyWest Airlines ...|   SGU| PHX|    false|   false|       724|  714.0|            0.0|   -10.0|  818.0|            0.0|   49.0|          79.0|             64.0|   262.0|2021|      1|    3|         3|        3|                       AA|                           AA_CODESHARE|                   19805|                         AA|                           3133|               OO|                   20304|                         OO|     N728SK|                           3133|          14794|           1479405|             34794|      St. George, UT|         UT|             49|           Utah|       87|        14107|         1410702|           30466|         Phoenix, AZ|       AZ|            4|      Arizona|     81|     0.0|                -1.0| 0700-0759|   10.0|    724.0|   813.0|   5.0|       843|   -25.0|     0.0|              -2.0| 0800-0859|            2|               0.0|\n",
      "|2021-03-03 00:00:00|SkyWest Airlines ...|   PHX| SGU|    false|   false|       922|  917.0|            0.0|    -5.0| 1031.0|            0.0|   48.0|          78.0|             74.0|   262.0|2021|      1|    3|         3|        3|                       AA|                           AA_CODESHARE|                   19805|                         AA|                           3134|               OO|                   20304|                         OO|     N752SK|                           3134|          14107|           1410702|             30466|         Phoenix, AZ|         AZ|              4|        Arizona|       81|        14794|         1479405|           34794|      St. George, UT|       UT|           49|         Utah|     87|     0.0|                -1.0| 0900-0959|   23.0|    940.0|  1028.0|   3.0|      1040|    -9.0|     0.0|              -1.0| 1000-1059|            2|               0.0|\n",
      "|2021-03-03 00:00:00|SkyWest Airlines ...|   MHT| ORD|    false|   false|      1330| 1321.0|            0.0|    -9.0| 1501.0|            0.0|  129.0|         180.0|            160.0|   843.0|2021|      1|    3|         3|        3|                       AA|                           AA_CODESHARE|                   19805|                         AA|                           3135|               OO|                   20304|                         OO|     N766SK|                           3135|          13296|           1329604|             30721|      Manchester, NH|         NH|             33|  New Hampshire|       14|        13930|         1393007|           30977|         Chicago, IL|       IL|           17|     Illinois|     41|     0.0|                -1.0| 1300-1359|   15.0|   1336.0|  1445.0|  16.0|      1530|   -29.0|     0.0|              -2.0| 1500-1559|            4|               0.0|\n",
      "|2021-03-03 00:00:00|SkyWest Airlines ...|   DFW| TRI|    false|   false|      1645| 1636.0|            0.0|    -9.0| 2002.0|            0.0|  112.0|         145.0|            146.0|   868.0|2021|      1|    3|         3|        3|                       AA|                           AA_CODESHARE|                   19805|                         AA|                           3136|               OO|                   20304|                         OO|     N752EV|                           3136|          11298|           1129806|             30194|Dallas/Fort Worth...|         TX|             48|          Texas|       74|        15323|         1532305|           35323|Bristol/Johnson C...|       TN|           47|    Tennessee|     54|     0.0|                -1.0| 1600-1659|   27.0|   1703.0|  1955.0|   7.0|      2010|    -8.0|     0.0|              -1.0| 2000-2059|            4|               0.0|\n",
      "|2021-03-03 00:00:00|SkyWest Airlines ...|   PHX| BFL|    false|   false|      1844| 1838.0|            0.0|    -6.0| 1903.0|            0.0|   69.0|         101.0|             85.0|   425.0|2021|      1|    3|         3|        3|                       AA|                           AA_CODESHARE|                   19805|                         AA|                           3137|               OO|                   20304|                         OO|     N715SK|                           3137|          14107|           1410702|             30466|         Phoenix, AZ|         AZ|              4|        Arizona|       81|        10561|         1056103|           30561|     Bakersfield, CA|       CA|            6|   California|     91|     0.0|                -1.0| 1800-1859|   13.0|   1851.0|  1900.0|   3.0|      1925|   -22.0|     0.0|              -2.0| 1900-1959|            2|               0.0|\n",
      "|2021-03-03 00:00:00|SkyWest Airlines ...|   ORD| BNA|    false|   false|      1650| 1648.0|            0.0|    -2.0| 1808.0|            0.0|   57.0|         104.0|             80.0|   409.0|2021|      1|    3|         3|        3|                       AA|                           AA_CODESHARE|                   19805|                         AA|                           3139|               OO|                   20304|                         OO|     N744SK|                           3139|          13930|           1393007|             30977|         Chicago, IL|         IL|             17|       Illinois|       41|        10693|         1069302|           30693|       Nashville, TN|       TN|           47|    Tennessee|     54|     0.0|                -1.0| 1600-1659|   19.0|   1707.0|  1804.0|   4.0|      1834|   -26.0|     0.0|              -2.0| 1800-1859|            2|               0.0|\n",
      "|2021-03-03 00:00:00|SkyWest Airlines ...|   PSP| PHX|    false|   false|      1652| 1651.0|            0.0|    -1.0| 1929.0|           27.0|   45.0|          70.0|             98.0|   261.0|2021|      1|    3|         3|        3|                       AA|                           AA_CODESHARE|                   19805|                         AA|                           3140|               OO|                   20304|                         OO|     N727SK|                           3140|          14262|           1426204|             34262|    Palm Springs, CA|         CA|              6|     California|       91|        14107|         1410702|           30466|         Phoenix, AZ|       AZ|            4|      Arizona|     81|     0.0|                -1.0| 1600-1659|   48.0|   1739.0|  1924.0|   5.0|      1902|    27.0|     1.0|               1.0| 1900-1959|            2|               0.0|\n",
      "|2021-03-03 00:00:00|SkyWest Airlines ...|   DFW| YUM|    false|   false|      1245| 1242.0|            0.0|    -3.0| 1452.0|            0.0|  153.0|         191.0|            190.0|  1022.0|2021|      1|    3|         3|        3|                       AA|                           AA_CODESHARE|                   19805|                         AA|                           3141|               OO|                   20304|                         OO|     N771SK|                           3141|          11298|           1129806|             30194|Dallas/Fort Worth...|         TX|             48|          Texas|       74|        16218|         1621802|           33785|            Yuma, AZ|       AZ|            4|      Arizona|     81|     0.0|                -1.0| 1200-1259|   32.0|   1314.0|  1447.0|   5.0|      1456|    -4.0|     0.0|              -1.0| 1400-1459|            5|               0.0|\n",
      "|2021-03-03 00:00:00|SkyWest Airlines ...|   LBB| PHX|    false|   false|       726|  717.0|            0.0|    -9.0|  821.0|            0.0|  104.0|         130.0|            124.0|   588.0|2021|      1|    3|         3|        3|                       AA|                           AA_CODESHARE|                   19805|                         AA|                           3142|               OO|                   20304|                         OO|     N614SK|                           3142|          12896|           1289607|             32896|         Lubbock, TX|         TX|             48|          Texas|       74|        14107|         1410702|           30466|         Phoenix, AZ|       AZ|            4|      Arizona|     81|     0.0|                -1.0| 0700-0759|   12.0|    729.0|   813.0|   8.0|       836|   -15.0|     0.0|              -1.0| 0800-0859|            3|               0.0|\n",
      "|2021-03-03 00:00:00|SkyWest Airlines ...|   DFW| DRO|    false|   false|      2045| 2040.0|            0.0|    -5.0| 2144.0|            0.0|   97.0|         150.0|            124.0|   674.0|2021|      1|    3|         3|        3|                       AA|                           AA_CODESHARE|                   19805|                         AA|                           3144|               OO|                   20304|                         OO|     N773SK|                           3144|          11298|           1129806|             30194|Dallas/Fort Worth...|         TX|             48|          Texas|       74|        11413|         1141307|           30285|         Durango, CO|       CO|            8|     Colorado|     82|     0.0|                -1.0| 2000-2059|   25.0|   2105.0|  2142.0|   2.0|      2215|   -31.0|     0.0|              -2.0| 2200-2259|            3|               0.0|\n",
      "|2021-03-03 00:00:00|SkyWest Airlines ...|   PHX| FAR|    false|   false|      1030| 1032.0|            2.0|     2.0| 1435.0|            0.0|  147.0|         191.0|            183.0|  1225.0|2021|      1|    3|         3|        3|                       AA|                           AA_CODESHARE|                   19805|                         AA|                           3145|               OO|                   20304|                         OO|     N762SK|                           3145|          14107|           1410702|             30466|         Phoenix, AZ|         AZ|              4|        Arizona|       81|        11637|         1163703|           31637|           Fargo, ND|       ND|           38| North Dakota|     66|     0.0|                 0.0| 1000-1059|   32.0|   1104.0|  1431.0|   4.0|      1441|    -6.0|     0.0|              -1.0| 1400-1459|            5|               0.0|\n",
      "|2021-03-03 00:00:00|SkyWest Airlines ...|   FWA| ORD|    false|   false|      1506| 1456.0|            0.0|   -10.0| 1447.0|            0.0|   33.0|          70.0|             51.0|   157.0|2021|      1|    3|         3|        3|                       AA|                           AA_CODESHARE|                   19805|                         AA|                           3146|               OO|                   20304|                         OO|     N730SK|                           3146|          11823|           1182304|             31823|      Fort Wayne, IN|         IN|             18|        Indiana|       42|        13930|         1393007|           30977|         Chicago, IL|       IL|           17|     Illinois|     41|     0.0|                -1.0| 1500-1559|    8.0|   1504.0|  1437.0|  10.0|      1516|   -29.0|     0.0|              -2.0| 1500-1559|            1|               0.0|\n",
      "|2021-03-03 00:00:00|SkyWest Airlines ...|   PHX| ABQ|    false|   false|      1032| 1040.0|            8.0|     8.0| 1204.0|            8.0|   45.0|          84.0|             84.0|   328.0|2021|      1|    3|         3|        3|                       AA|                           AA_CODESHARE|                   19805|                         AA|                           3147|               OO|                   20304|                         OO|     N741EV|                           3147|          14107|           1410702|             30466|         Phoenix, AZ|         AZ|              4|        Arizona|       81|        10140|         1014005|           30140|     Albuquerque, NM|       NM|           35|   New Mexico|     86|     0.0|                 0.0| 1000-1059|   33.0|   1113.0|  1158.0|   6.0|      1156|     8.0|     0.0|               0.0| 1100-1159|            2|               0.0|\n",
      "|2021-03-03 00:00:00|SkyWest Airlines ...|   PSP| PHX|    false|   false|       732|  723.0|            0.0|    -9.0|  939.0|            0.0|   43.0|          77.0|             76.0|   261.0|2021|      1|    3|         3|        3|                       AA|                           AA_CODESHARE|                   19805|                         AA|                           3148|               OO|                   20304|                         OO|     N716SK|                           3148|          14262|           1426204|             34262|    Palm Springs, CA|         CA|              6|     California|       91|        14107|         1410702|           30466|         Phoenix, AZ|       AZ|            4|      Arizona|     81|     0.0|                -1.0| 0700-0759|   12.0|    735.0|   918.0|  21.0|       949|   -10.0|     0.0|              -1.0| 0900-0959|            2|               0.0|\n",
      "|2021-03-03 00:00:00|SkyWest Airlines ...|   ORD| ASE|    false|   false|       902|  853.0|            0.0|    -9.0| 1058.0|            0.0|  157.0|         208.0|            185.0|  1013.0|2021|      1|    3|         3|        3|                       AA|                           AA_CODESHARE|                   19805|                         AA|                           3150|               OO|                   20304|                         OO|     N631SK|                           3150|          13930|           1393007|             30977|         Chicago, IL|         IL|             17|       Illinois|       41|        10372|         1037205|           30372|           Aspen, CO|       CO|            8|     Colorado|     82|     0.0|                -1.0| 0900-0959|   21.0|    914.0|  1051.0|   7.0|      1130|   -32.0|     0.0|              -2.0| 1100-1159|            5|               0.0|\n",
      "|2021-03-03 00:00:00|SkyWest Airlines ...|   DRO| PHX|    false|   false|       700|  649.0|            0.0|   -11.0|  814.0|            0.0|   63.0|         109.0|             85.0|   351.0|2021|      1|    3|         3|        3|                       AA|                           AA_CODESHARE|                   19805|                         AA|                           3153|               OO|                   20304|                         OO|     N772SK|                           3153|          11413|           1141307|             30285|         Durango, CO|         CO|              8|       Colorado|       82|        14107|         1410702|           30466|         Phoenix, AZ|       AZ|            4|      Arizona|     81|     0.0|                -1.0| 0700-0759|   18.0|    707.0|   810.0|   4.0|       849|   -35.0|     0.0|              -2.0| 0800-0859|            2|               0.0|\n",
      "|2021-03-03 00:00:00|SkyWest Airlines ...|   LAX| SFO|    false|   false|      2035| 2028.0|            0.0|    -7.0| 2148.0|            0.0|   57.0|          80.0|             80.0|   337.0|2021|      1|    3|         3|        3|                       AA|                           AA_CODESHARE|                   19805|                         AA|                           3159|               OO|                   20304|                         OO|     N716SK|                           3159|          12892|           1289208|             32575|     Los Angeles, CA|         CA|              6|     California|       91|        14771|         1477104|           32457|   San Francisco, CA|       CA|            6|   California|     91|     0.0|                -1.0| 2000-2059|   19.0|   2047.0|  2144.0|   4.0|      2155|    -7.0|     0.0|              -1.0| 2100-2159|            2|               0.0|\n",
      "|2021-03-03 00:00:00|SkyWest Airlines ...|   SFO| LAX|    false|   false|       538|  530.0|            0.0|    -8.0|  645.0|            0.0|   60.0|          82.0|             75.0|   337.0|2021|      1|    3|         3|        3|                       AA|                           AA_CODESHARE|                   19805|                         AA|                           3160|               OO|                   20304|                         OO|     N732SK|                           3160|          14771|           1477104|             32457|   San Francisco, CA|         CA|              6|     California|       91|        12892|         1289208|           32575|     Los Angeles, CA|       CA|            6|   California|     91|     0.0|                -1.0| 0001-0559|   11.0|    541.0|   641.0|   4.0|       700|   -15.0|     0.0|              -1.0| 0700-0759|            2|               0.0|\n",
      "|2021-03-03 00:00:00|SkyWest Airlines ...|   JLN| DFW|    false|   false|       600|  550.0|            0.0|   -10.0|  718.0|            0.0|   56.0|         104.0|             88.0|   327.0|2021|      1|    3|         3|        3|                       AA|                           AA_CODESHARE|                   19805|                         AA|                           3161|               OO|                   20304|                         OO|     N771SK|                           3161|          12511|           1251103|             32511|          Joplin, MO|         MO|             29|       Missouri|       64|        11298|         1129806|           30194|Dallas/Fort Worth...|       TX|           48|        Texas|     74|     0.0|                -1.0| 0600-0659|   19.0|    609.0|   705.0|  13.0|       744|   -26.0|     0.0|              -2.0| 0700-0759|            2|               0.0|\n",
      "|2021-03-03 00:00:00|SkyWest Airlines ...|   DFW| JLN|    false|   false|      2030| 2020.0|            0.0|   -10.0| 2145.0|            0.0|   50.0|          96.0|             85.0|   327.0|2021|      1|    3|         3|        3|                       AA|                           AA_CODESHARE|                   19805|                         AA|                           3162|               OO|                   20304|                         OO|     N709SK|                           3162|          11298|           1129806|             30194|Dallas/Fort Worth...|         TX|             48|          Texas|       74|        12511|         1251103|           32511|          Joplin, MO|       MO|           29|     Missouri|     64|     0.0|                -1.0| 2000-2059|   31.0|   2051.0|  2141.0|   4.0|      2206|   -21.0|     0.0|              -2.0| 2200-2259|            2|               0.0|\n",
      "+-------------------+--------------------+------+----+---------+--------+----------+-------+---------------+--------+-------+---------------+-------+--------------+-----------------+--------+----+-------+-----+----------+---------+-------------------------+---------------------------------------+------------------------+---------------------------+-------------------------------+-----------------+------------------------+---------------------------+-----------+-------------------------------+---------------+------------------+------------------+--------------------+-----------+---------------+---------------+---------+-------------+----------------+----------------+--------------------+---------+-------------+-------------+-------+--------+--------------------+----------+-------+---------+--------+------+----------+--------+--------+------------------+----------+-------------+------------------+\n",
      "only showing top 20 rows\n",
      "\n"
     ]
    }
   ],
   "source": [
    "flights.show()"
   ],
   "metadata": {
    "collapsed": false
   }
  },
  {
   "cell_type": "code",
   "execution_count": 7,
   "outputs": [
    {
     "name": "stdout",
     "output_type": "stream",
     "text": [
      "root\n",
      " |-- FlightDate: timestamp (nullable = true)\n",
      " |-- Airline: string (nullable = true)\n",
      " |-- Origin: string (nullable = true)\n",
      " |-- Dest: string (nullable = true)\n",
      " |-- Cancelled: boolean (nullable = true)\n",
      " |-- Diverted: boolean (nullable = true)\n",
      " |-- CRSDepTime: integer (nullable = true)\n",
      " |-- DepTime: double (nullable = true)\n",
      " |-- DepDelayMinutes: double (nullable = true)\n",
      " |-- DepDelay: double (nullable = true)\n",
      " |-- ArrTime: double (nullable = true)\n",
      " |-- ArrDelayMinutes: double (nullable = true)\n",
      " |-- AirTime: double (nullable = true)\n",
      " |-- CRSElapsedTime: double (nullable = true)\n",
      " |-- ActualElapsedTime: double (nullable = true)\n",
      " |-- Distance: double (nullable = true)\n",
      " |-- Year: integer (nullable = true)\n",
      " |-- Quarter: integer (nullable = true)\n",
      " |-- Month: integer (nullable = true)\n",
      " |-- DayofMonth: integer (nullable = true)\n",
      " |-- DayOfWeek: integer (nullable = true)\n",
      " |-- Marketing_Airline_Network: string (nullable = true)\n",
      " |-- Operated_or_Branded_Code_Share_Partners: string (nullable = true)\n",
      " |-- DOT_ID_Marketing_Airline: integer (nullable = true)\n",
      " |-- IATA_Code_Marketing_Airline: string (nullable = true)\n",
      " |-- Flight_Number_Marketing_Airline: integer (nullable = true)\n",
      " |-- Operating_Airline: string (nullable = true)\n",
      " |-- DOT_ID_Operating_Airline: integer (nullable = true)\n",
      " |-- IATA_Code_Operating_Airline: string (nullable = true)\n",
      " |-- Tail_Number: string (nullable = true)\n",
      " |-- Flight_Number_Operating_Airline: integer (nullable = true)\n",
      " |-- OriginAirportID: integer (nullable = true)\n",
      " |-- OriginAirportSeqID: integer (nullable = true)\n",
      " |-- OriginCityMarketID: integer (nullable = true)\n",
      " |-- OriginCityName: string (nullable = true)\n",
      " |-- OriginState: string (nullable = true)\n",
      " |-- OriginStateFips: integer (nullable = true)\n",
      " |-- OriginStateName: string (nullable = true)\n",
      " |-- OriginWac: integer (nullable = true)\n",
      " |-- DestAirportID: integer (nullable = true)\n",
      " |-- DestAirportSeqID: integer (nullable = true)\n",
      " |-- DestCityMarketID: integer (nullable = true)\n",
      " |-- DestCityName: string (nullable = true)\n",
      " |-- DestState: string (nullable = true)\n",
      " |-- DestStateFips: integer (nullable = true)\n",
      " |-- DestStateName: string (nullable = true)\n",
      " |-- DestWac: integer (nullable = true)\n",
      " |-- DepDel15: double (nullable = true)\n",
      " |-- DepartureDelayGroups: double (nullable = true)\n",
      " |-- DepTimeBlk: string (nullable = true)\n",
      " |-- TaxiOut: double (nullable = true)\n",
      " |-- WheelsOff: double (nullable = true)\n",
      " |-- WheelsOn: double (nullable = true)\n",
      " |-- TaxiIn: double (nullable = true)\n",
      " |-- CRSArrTime: integer (nullable = true)\n",
      " |-- ArrDelay: double (nullable = true)\n",
      " |-- ArrDel15: double (nullable = true)\n",
      " |-- ArrivalDelayGroups: double (nullable = true)\n",
      " |-- ArrTimeBlk: string (nullable = true)\n",
      " |-- DistanceGroup: integer (nullable = true)\n",
      " |-- DivAirportLandings: double (nullable = true)\n",
      "\n"
     ]
    }
   ],
   "source": [
    "flights.printSchema()"
   ],
   "metadata": {
    "collapsed": false
   }
  },
  {
   "cell_type": "code",
   "execution_count": 8,
   "outputs": [
    {
     "data": {
      "text/plain": "['FlightDate',\n 'Airline',\n 'Origin',\n 'Dest',\n 'Cancelled',\n 'Diverted',\n 'CRSDepTime',\n 'DepTime',\n 'DepDelayMinutes',\n 'DepDelay',\n 'ArrTime',\n 'ArrDelayMinutes',\n 'AirTime',\n 'CRSElapsedTime',\n 'ActualElapsedTime',\n 'Distance',\n 'Year',\n 'Quarter',\n 'Month',\n 'DayofMonth',\n 'DayOfWeek',\n 'Marketing_Airline_Network',\n 'Operated_or_Branded_Code_Share_Partners',\n 'DOT_ID_Marketing_Airline',\n 'IATA_Code_Marketing_Airline',\n 'Flight_Number_Marketing_Airline',\n 'Operating_Airline',\n 'DOT_ID_Operating_Airline',\n 'IATA_Code_Operating_Airline',\n 'Tail_Number',\n 'Flight_Number_Operating_Airline',\n 'OriginAirportID',\n 'OriginAirportSeqID',\n 'OriginCityMarketID',\n 'OriginCityName',\n 'OriginState',\n 'OriginStateFips',\n 'OriginStateName',\n 'OriginWac',\n 'DestAirportID',\n 'DestAirportSeqID',\n 'DestCityMarketID',\n 'DestCityName',\n 'DestState',\n 'DestStateFips',\n 'DestStateName',\n 'DestWac',\n 'DepDel15',\n 'DepartureDelayGroups',\n 'DepTimeBlk',\n 'TaxiOut',\n 'WheelsOff',\n 'WheelsOn',\n 'TaxiIn',\n 'CRSArrTime',\n 'ArrDelay',\n 'ArrDel15',\n 'ArrivalDelayGroups',\n 'ArrTimeBlk',\n 'DistanceGroup',\n 'DivAirportLandings']"
     },
     "execution_count": 8,
     "metadata": {},
     "output_type": "execute_result"
    }
   ],
   "source": [
    "flights.columns"
   ],
   "metadata": {
    "collapsed": false
   }
  },
  {
   "cell_type": "code",
   "execution_count": 13,
   "outputs": [
    {
     "name": "stderr",
     "output_type": "stream",
     "text": [
      "                                                                                \r"
     ]
    },
    {
     "data": {
      "text/plain": "365"
     },
     "execution_count": 13,
     "metadata": {},
     "output_type": "execute_result"
    }
   ],
   "source": [
    "import pyspark.sql.functions as F\n",
    "# data = flights.select(['Airline', 'Cancelled', 'Year', 'Month'])\n",
    "# data = data.where((flights.Year==2021)&(flights.Month==9)&(flights.Cancelled==True))\n",
    "# data=data.groupBy('Airline').count().sort(F.col('count').desc()).take(1)\n",
    "# data[0].asDict()['Airline']\n",
    "\n",
    "\n",
    "# data1 = flights.select(['Airline', 'FlightDate', 'Diverted'])\n",
    "# data1 = data1.where((data1.FlightDate>='2021-11-20')&(data1.FlightDate<='2021-11-30')&(data1.Diverted==True))\n",
    "# data1.count()\n",
    "# data = data.to_frame()\n",
    "\n",
    "\n",
    "# data2 = flights.select(['AirTime', 'OriginCityName', 'DestCityName'])\n",
    "# data2=data2.where((data2.OriginCityName == 'Nashville, TN') & (data2.DestCityName == 'Chicago, IL')).dropna().agg({'AirTime': 'mean' })\n",
    "# data2.collect()[0].asDict().get('avg(AirTime)')\n",
    "\n",
    "data3 = flights.select(['DepTime', 'FlightDate'])\n",
    "data3.filter(data3.DepTime.isNull()).groupBy('FlightDate').count().count()\n",
    "# data3.select([F.count(F.when(F.isnan(c), c)).alias(c) for c in data3.columns]).show()\n"
   ],
   "metadata": {
    "collapsed": false
   }
  },
  {
   "cell_type": "code",
   "execution_count": 10,
   "outputs": [
    {
     "name": "stdout",
     "output_type": "stream",
     "text": [
      "+-------------------+--------------------+------+----+---------+--------+----------+-------+---------------+--------+-------+---------------+-------+--------------+-----------------+--------+----+-------+-----+----------+---------+-------------------------+---------------------------------------+------------------------+---------------------------+-------------------------------+-----------------+------------------------+---------------------------+-----------+-------------------------------+---------------+------------------+------------------+--------------------+-----------+---------------+---------------+---------+-------------+----------------+----------------+--------------------+---------+-------------+-------------+-------+--------+--------------------+----------+-------+---------+--------+------+----------+--------+--------+------------------+----------+-------------+------------------+------------------+\n",
      "|         FlightDate|             Airline|Origin|Dest|Cancelled|Diverted|CRSDepTime|DepTime|DepDelayMinutes|DepDelay|ArrTime|ArrDelayMinutes|AirTime|CRSElapsedTime|ActualElapsedTime|Distance|Year|Quarter|Month|DayofMonth|DayOfWeek|Marketing_Airline_Network|Operated_or_Branded_Code_Share_Partners|DOT_ID_Marketing_Airline|IATA_Code_Marketing_Airline|Flight_Number_Marketing_Airline|Operating_Airline|DOT_ID_Operating_Airline|IATA_Code_Operating_Airline|Tail_Number|Flight_Number_Operating_Airline|OriginAirportID|OriginAirportSeqID|OriginCityMarketID|      OriginCityName|OriginState|OriginStateFips|OriginStateName|OriginWac|DestAirportID|DestAirportSeqID|DestCityMarketID|        DestCityName|DestState|DestStateFips|DestStateName|DestWac|DepDel15|DepartureDelayGroups|DepTimeBlk|TaxiOut|WheelsOff|WheelsOn|TaxiIn|CRSArrTime|ArrDelay|ArrDel15|ArrivalDelayGroups|ArrTimeBlk|DistanceGroup|DivAirportLandings|Age after 10 years|\n",
      "+-------------------+--------------------+------+----+---------+--------+----------+-------+---------------+--------+-------+---------------+-------+--------------+-----------------+--------+----+-------+-----+----------+---------+-------------------------+---------------------------------------+------------------------+---------------------------+-------------------------------+-----------------+------------------------+---------------------------+-----------+-------------------------------+---------------+------------------+------------------+--------------------+-----------+---------------+---------------+---------+-------------+----------------+----------------+--------------------+---------+-------------+-------------+-------+--------+--------------------+----------+-------+---------+--------+------+----------+--------+--------+------------------+----------+-------------+------------------+------------------+\n",
      "|2021-03-03 00:00:00|SkyWest Airlines ...|   SGU| PHX|    false|   false|       724|  714.0|            0.0|   -10.0|  818.0|            0.0|   49.0|          79.0|             64.0|   262.0|2021|      1|    3|         3|        3|                       AA|                           AA_CODESHARE|                   19805|                         AA|                           3133|               OO|                   20304|                         OO|     N728SK|                           3133|          14794|           1479405|             34794|      St. George, UT|         UT|             49|           Utah|       87|        14107|         1410702|           30466|         Phoenix, AZ|       AZ|            4|      Arizona|     81|     0.0|                -1.0| 0700-0759|   10.0|    724.0|   813.0|   5.0|       843|   -25.0|     0.0|              -2.0| 0800-0859|            2|               0.0|             828.0|\n",
      "|2021-03-03 00:00:00|SkyWest Airlines ...|   PHX| SGU|    false|   false|       922|  917.0|            0.0|    -5.0| 1031.0|            0.0|   48.0|          78.0|             74.0|   262.0|2021|      1|    3|         3|        3|                       AA|                           AA_CODESHARE|                   19805|                         AA|                           3134|               OO|                   20304|                         OO|     N752SK|                           3134|          14107|           1410702|             30466|         Phoenix, AZ|         AZ|              4|        Arizona|       81|        14794|         1479405|           34794|      St. George, UT|       UT|           49|         Utah|     87|     0.0|                -1.0| 0900-0959|   23.0|    940.0|  1028.0|   3.0|      1040|    -9.0|     0.0|              -1.0| 1000-1059|            2|               0.0|            1041.0|\n",
      "|2021-03-03 00:00:00|SkyWest Airlines ...|   MHT| ORD|    false|   false|      1330| 1321.0|            0.0|    -9.0| 1501.0|            0.0|  129.0|         180.0|            160.0|   843.0|2021|      1|    3|         3|        3|                       AA|                           AA_CODESHARE|                   19805|                         AA|                           3135|               OO|                   20304|                         OO|     N766SK|                           3135|          13296|           1329604|             30721|      Manchester, NH|         NH|             33|  New Hampshire|       14|        13930|         1393007|           30977|         Chicago, IL|       IL|           17|     Illinois|     41|     0.0|                -1.0| 1300-1359|   15.0|   1336.0|  1445.0|  16.0|      1530|   -29.0|     0.0|              -2.0| 1500-1559|            4|               0.0|            1511.0|\n",
      "|2021-03-03 00:00:00|SkyWest Airlines ...|   DFW| TRI|    false|   false|      1645| 1636.0|            0.0|    -9.0| 2002.0|            0.0|  112.0|         145.0|            146.0|   868.0|2021|      1|    3|         3|        3|                       AA|                           AA_CODESHARE|                   19805|                         AA|                           3136|               OO|                   20304|                         OO|     N752EV|                           3136|          11298|           1129806|             30194|Dallas/Fort Worth...|         TX|             48|          Texas|       74|        15323|         1532305|           35323|Bristol/Johnson C...|       TN|           47|    Tennessee|     54|     0.0|                -1.0| 1600-1659|   27.0|   1703.0|  1955.0|   7.0|      2010|    -8.0|     0.0|              -1.0| 2000-2059|            4|               0.0|            2012.0|\n",
      "|2021-03-03 00:00:00|SkyWest Airlines ...|   PHX| BFL|    false|   false|      1844| 1838.0|            0.0|    -6.0| 1903.0|            0.0|   69.0|         101.0|             85.0|   425.0|2021|      1|    3|         3|        3|                       AA|                           AA_CODESHARE|                   19805|                         AA|                           3137|               OO|                   20304|                         OO|     N715SK|                           3137|          14107|           1410702|             30466|         Phoenix, AZ|         AZ|              4|        Arizona|       81|        10561|         1056103|           30561|     Bakersfield, CA|       CA|            6|   California|     91|     0.0|                -1.0| 1800-1859|   13.0|   1851.0|  1900.0|   3.0|      1925|   -22.0|     0.0|              -2.0| 1900-1959|            2|               0.0|            1913.0|\n",
      "|2021-03-03 00:00:00|SkyWest Airlines ...|   ORD| BNA|    false|   false|      1650| 1648.0|            0.0|    -2.0| 1808.0|            0.0|   57.0|         104.0|             80.0|   409.0|2021|      1|    3|         3|        3|                       AA|                           AA_CODESHARE|                   19805|                         AA|                           3139|               OO|                   20304|                         OO|     N744SK|                           3139|          13930|           1393007|             30977|         Chicago, IL|         IL|             17|       Illinois|       41|        10693|         1069302|           30693|       Nashville, TN|       TN|           47|    Tennessee|     54|     0.0|                -1.0| 1600-1659|   19.0|   1707.0|  1804.0|   4.0|      1834|   -26.0|     0.0|              -2.0| 1800-1859|            2|               0.0|            1818.0|\n",
      "|2021-03-03 00:00:00|SkyWest Airlines ...|   PSP| PHX|    false|   false|      1652| 1651.0|            0.0|    -1.0| 1929.0|           27.0|   45.0|          70.0|             98.0|   261.0|2021|      1|    3|         3|        3|                       AA|                           AA_CODESHARE|                   19805|                         AA|                           3140|               OO|                   20304|                         OO|     N727SK|                           3140|          14262|           1426204|             34262|    Palm Springs, CA|         CA|              6|     California|       91|        14107|         1410702|           30466|         Phoenix, AZ|       AZ|            4|      Arizona|     81|     0.0|                -1.0| 1600-1659|   48.0|   1739.0|  1924.0|   5.0|      1902|    27.0|     1.0|               1.0| 1900-1959|            2|               0.0|            1939.0|\n",
      "|2021-03-03 00:00:00|SkyWest Airlines ...|   DFW| YUM|    false|   false|      1245| 1242.0|            0.0|    -3.0| 1452.0|            0.0|  153.0|         191.0|            190.0|  1022.0|2021|      1|    3|         3|        3|                       AA|                           AA_CODESHARE|                   19805|                         AA|                           3141|               OO|                   20304|                         OO|     N771SK|                           3141|          11298|           1129806|             30194|Dallas/Fort Worth...|         TX|             48|          Texas|       74|        16218|         1621802|           33785|            Yuma, AZ|       AZ|            4|      Arizona|     81|     0.0|                -1.0| 1200-1259|   32.0|   1314.0|  1447.0|   5.0|      1456|    -4.0|     0.0|              -1.0| 1400-1459|            5|               0.0|            1462.0|\n",
      "|2021-03-03 00:00:00|SkyWest Airlines ...|   LBB| PHX|    false|   false|       726|  717.0|            0.0|    -9.0|  821.0|            0.0|  104.0|         130.0|            124.0|   588.0|2021|      1|    3|         3|        3|                       AA|                           AA_CODESHARE|                   19805|                         AA|                           3142|               OO|                   20304|                         OO|     N614SK|                           3142|          12896|           1289607|             32896|         Lubbock, TX|         TX|             48|          Texas|       74|        14107|         1410702|           30466|         Phoenix, AZ|       AZ|            4|      Arizona|     81|     0.0|                -1.0| 0700-0759|   12.0|    729.0|   813.0|   8.0|       836|   -15.0|     0.0|              -1.0| 0800-0859|            3|               0.0|             831.0|\n",
      "|2021-03-03 00:00:00|SkyWest Airlines ...|   DFW| DRO|    false|   false|      2045| 2040.0|            0.0|    -5.0| 2144.0|            0.0|   97.0|         150.0|            124.0|   674.0|2021|      1|    3|         3|        3|                       AA|                           AA_CODESHARE|                   19805|                         AA|                           3144|               OO|                   20304|                         OO|     N773SK|                           3144|          11298|           1129806|             30194|Dallas/Fort Worth...|         TX|             48|          Texas|       74|        11413|         1141307|           30285|         Durango, CO|       CO|            8|     Colorado|     82|     0.0|                -1.0| 2000-2059|   25.0|   2105.0|  2142.0|   2.0|      2215|   -31.0|     0.0|              -2.0| 2200-2259|            3|               0.0|            2154.0|\n",
      "|2021-03-03 00:00:00|SkyWest Airlines ...|   PHX| FAR|    false|   false|      1030| 1032.0|            2.0|     2.0| 1435.0|            0.0|  147.0|         191.0|            183.0|  1225.0|2021|      1|    3|         3|        3|                       AA|                           AA_CODESHARE|                   19805|                         AA|                           3145|               OO|                   20304|                         OO|     N762SK|                           3145|          14107|           1410702|             30466|         Phoenix, AZ|         AZ|              4|        Arizona|       81|        11637|         1163703|           31637|           Fargo, ND|       ND|           38| North Dakota|     66|     0.0|                 0.0| 1000-1059|   32.0|   1104.0|  1431.0|   4.0|      1441|    -6.0|     0.0|              -1.0| 1400-1459|            5|               0.0|            1445.0|\n",
      "|2021-03-03 00:00:00|SkyWest Airlines ...|   FWA| ORD|    false|   false|      1506| 1456.0|            0.0|   -10.0| 1447.0|            0.0|   33.0|          70.0|             51.0|   157.0|2021|      1|    3|         3|        3|                       AA|                           AA_CODESHARE|                   19805|                         AA|                           3146|               OO|                   20304|                         OO|     N730SK|                           3146|          11823|           1182304|             31823|      Fort Wayne, IN|         IN|             18|        Indiana|       42|        13930|         1393007|           30977|         Chicago, IL|       IL|           17|     Illinois|     41|     0.0|                -1.0| 1500-1559|    8.0|   1504.0|  1437.0|  10.0|      1516|   -29.0|     0.0|              -2.0| 1500-1559|            1|               0.0|            1457.0|\n",
      "|2021-03-03 00:00:00|SkyWest Airlines ...|   PHX| ABQ|    false|   false|      1032| 1040.0|            8.0|     8.0| 1204.0|            8.0|   45.0|          84.0|             84.0|   328.0|2021|      1|    3|         3|        3|                       AA|                           AA_CODESHARE|                   19805|                         AA|                           3147|               OO|                   20304|                         OO|     N741EV|                           3147|          14107|           1410702|             30466|         Phoenix, AZ|         AZ|              4|        Arizona|       81|        10140|         1014005|           30140|     Albuquerque, NM|       NM|           35|   New Mexico|     86|     0.0|                 0.0| 1000-1059|   33.0|   1113.0|  1158.0|   6.0|      1156|     8.0|     0.0|               0.0| 1100-1159|            2|               0.0|            1214.0|\n",
      "|2021-03-03 00:00:00|SkyWest Airlines ...|   PSP| PHX|    false|   false|       732|  723.0|            0.0|    -9.0|  939.0|            0.0|   43.0|          77.0|             76.0|   261.0|2021|      1|    3|         3|        3|                       AA|                           AA_CODESHARE|                   19805|                         AA|                           3148|               OO|                   20304|                         OO|     N716SK|                           3148|          14262|           1426204|             34262|    Palm Springs, CA|         CA|              6|     California|       91|        14107|         1410702|           30466|         Phoenix, AZ|       AZ|            4|      Arizona|     81|     0.0|                -1.0| 0700-0759|   12.0|    735.0|   918.0|  21.0|       949|   -10.0|     0.0|              -1.0| 0900-0959|            2|               0.0|             949.0|\n",
      "|2021-03-03 00:00:00|SkyWest Airlines ...|   ORD| ASE|    false|   false|       902|  853.0|            0.0|    -9.0| 1058.0|            0.0|  157.0|         208.0|            185.0|  1013.0|2021|      1|    3|         3|        3|                       AA|                           AA_CODESHARE|                   19805|                         AA|                           3150|               OO|                   20304|                         OO|     N631SK|                           3150|          13930|           1393007|             30977|         Chicago, IL|         IL|             17|       Illinois|       41|        10372|         1037205|           30372|           Aspen, CO|       CO|            8|     Colorado|     82|     0.0|                -1.0| 0900-0959|   21.0|    914.0|  1051.0|   7.0|      1130|   -32.0|     0.0|              -2.0| 1100-1159|            5|               0.0|            1068.0|\n",
      "|2021-03-03 00:00:00|SkyWest Airlines ...|   DRO| PHX|    false|   false|       700|  649.0|            0.0|   -11.0|  814.0|            0.0|   63.0|         109.0|             85.0|   351.0|2021|      1|    3|         3|        3|                       AA|                           AA_CODESHARE|                   19805|                         AA|                           3153|               OO|                   20304|                         OO|     N772SK|                           3153|          11413|           1141307|             30285|         Durango, CO|         CO|              8|       Colorado|       82|        14107|         1410702|           30466|         Phoenix, AZ|       AZ|            4|      Arizona|     81|     0.0|                -1.0| 0700-0759|   18.0|    707.0|   810.0|   4.0|       849|   -35.0|     0.0|              -2.0| 0800-0859|            2|               0.0|             824.0|\n",
      "|2021-03-03 00:00:00|SkyWest Airlines ...|   LAX| SFO|    false|   false|      2035| 2028.0|            0.0|    -7.0| 2148.0|            0.0|   57.0|          80.0|             80.0|   337.0|2021|      1|    3|         3|        3|                       AA|                           AA_CODESHARE|                   19805|                         AA|                           3159|               OO|                   20304|                         OO|     N716SK|                           3159|          12892|           1289208|             32575|     Los Angeles, CA|         CA|              6|     California|       91|        14771|         1477104|           32457|   San Francisco, CA|       CA|            6|   California|     91|     0.0|                -1.0| 2000-2059|   19.0|   2047.0|  2144.0|   4.0|      2155|    -7.0|     0.0|              -1.0| 2100-2159|            2|               0.0|            2158.0|\n",
      "|2021-03-03 00:00:00|SkyWest Airlines ...|   SFO| LAX|    false|   false|       538|  530.0|            0.0|    -8.0|  645.0|            0.0|   60.0|          82.0|             75.0|   337.0|2021|      1|    3|         3|        3|                       AA|                           AA_CODESHARE|                   19805|                         AA|                           3160|               OO|                   20304|                         OO|     N732SK|                           3160|          14771|           1477104|             32457|   San Francisco, CA|         CA|              6|     California|       91|        12892|         1289208|           32575|     Los Angeles, CA|       CA|            6|   California|     91|     0.0|                -1.0| 0001-0559|   11.0|    541.0|   641.0|   4.0|       700|   -15.0|     0.0|              -1.0| 0700-0759|            2|               0.0|             655.0|\n",
      "|2021-03-03 00:00:00|SkyWest Airlines ...|   JLN| DFW|    false|   false|       600|  550.0|            0.0|   -10.0|  718.0|            0.0|   56.0|         104.0|             88.0|   327.0|2021|      1|    3|         3|        3|                       AA|                           AA_CODESHARE|                   19805|                         AA|                           3161|               OO|                   20304|                         OO|     N771SK|                           3161|          12511|           1251103|             32511|          Joplin, MO|         MO|             29|       Missouri|       64|        11298|         1129806|           30194|Dallas/Fort Worth...|       TX|           48|        Texas|     74|     0.0|                -1.0| 0600-0659|   19.0|    609.0|   705.0|  13.0|       744|   -26.0|     0.0|              -2.0| 0700-0759|            2|               0.0|             728.0|\n",
      "|2021-03-03 00:00:00|SkyWest Airlines ...|   DFW| JLN|    false|   false|      2030| 2020.0|            0.0|   -10.0| 2145.0|            0.0|   50.0|          96.0|             85.0|   327.0|2021|      1|    3|         3|        3|                       AA|                           AA_CODESHARE|                   19805|                         AA|                           3162|               OO|                   20304|                         OO|     N709SK|                           3162|          11298|           1129806|             30194|Dallas/Fort Worth...|         TX|             48|          Texas|       74|        12511|         1251103|           32511|          Joplin, MO|       MO|           29|     Missouri|     64|     0.0|                -1.0| 2000-2059|   31.0|   2051.0|  2141.0|   4.0|      2206|   -21.0|     0.0|              -2.0| 2200-2259|            2|               0.0|            2155.0|\n",
      "+-------------------+--------------------+------+----+---------+--------+----------+-------+---------------+--------+-------+---------------+-------+--------------+-----------------+--------+----+-------+-----+----------+---------+-------------------------+---------------------------------------+------------------------+---------------------------+-------------------------------+-----------------+------------------------+---------------------------+-----------+-------------------------------+---------------+------------------+------------------+--------------------+-----------+---------------+---------------+---------+-------------+----------------+----------------+--------------------+---------+-------------+-------------+-------+--------+--------------------+----------+-------+---------+--------+------+----------+--------+--------+------------------+----------+-------------+------------------+------------------+\n",
      "only showing top 20 rows\n",
      "\n"
     ]
    }
   ],
   "source": [
    "flights.withColumn('Age after 10 years', flights.ArrTime + 10).show()"
   ],
   "metadata": {
    "collapsed": false
   }
  },
  {
   "cell_type": "code",
   "execution_count": 10,
   "outputs": [],
   "source": [],
   "metadata": {
    "collapsed": false
   }
  }
 ],
 "metadata": {
  "kernelspec": {
   "display_name": "Python 3",
   "language": "python",
   "name": "python3"
  },
  "language_info": {
   "codemirror_mode": {
    "name": "ipython",
    "version": 2
   },
   "file_extension": ".py",
   "mimetype": "text/x-python",
   "name": "python",
   "nbconvert_exporter": "python",
   "pygments_lexer": "ipython2",
   "version": "2.7.6"
  }
 },
 "nbformat": 4,
 "nbformat_minor": 0
}
