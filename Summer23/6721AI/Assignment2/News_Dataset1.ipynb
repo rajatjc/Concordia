{
  "nbformat": 4,
  "nbformat_minor": 0,
  "metadata": {
    "colab": {
      "provenance": []
    },
    "kernelspec": {
      "name": "python3",
      "display_name": "Python 3"
    },
    "language_info": {
      "name": "python"
    }
  },
  "cells": [
    {
      "cell_type": "code",
      "source": [
        "import pandas as pd "
      ],
      "metadata": {
        "id": "wlYyUseJxRsT"
      },
      "execution_count": null,
      "outputs": []
    },
    {
      "cell_type": "code",
      "source": [
        "# Load the JSON file into a pandas DataFrame\n",
        "df = pd.read_json('News_Category_Dataset_v3.json', lines=True)"
      ],
      "metadata": {
        "id": "YdXbR0lCxMW3"
      },
      "execution_count": null,
      "outputs": []
    },
    {
      "cell_type": "code",
      "source": [
        "df = df [['category',\t'short_description']]\n",
        "df.head()"
      ],
      "metadata": {
        "id": "lWHtm-SXxoKM"
      },
      "execution_count": null,
      "outputs": []
    },
    {
      "cell_type": "markdown",
      "source": [
        "Create the Bag of Words using CountVectorizer from df['short_description']"
      ],
      "metadata": {
        "id": "n0pfg3ilqoGp"
      }
    },
    {
      "cell_type": "code",
      "source": [
        "from sklearn.feature_extraction.text import CountVectorizer\n",
        "# Creating Bag of Words\n"
      ],
      "metadata": {
        "id": "BsdURs0h0LvD"
      },
      "execution_count": null,
      "outputs": []
    },
    {
      "cell_type": "code",
      "source": [
        "from sklearn.feature_extraction.text import TfidfTransformer\n",
        "tfidf_transformer = TfidfTransformer(sublinear_tf=True, use_idf=True)"
      ],
      "metadata": {
        "id": "mRuipDZsx6Zr"
      },
      "execution_count": null,
      "outputs": []
    },
    {
      "cell_type": "code",
      "source": [
        "# Sample code. count_vect is the name of your Countvectorizor\n",
        "'''\n",
        "test_sentence = \"I do not understand this assignment\"\n",
        "X_tst = count_vect.transform([test_sentence])\n",
        "X_tst.shape\n",
        "'''"
      ],
      "metadata": {
        "id": "068XgTTa5MLt"
      },
      "execution_count": null,
      "outputs": []
    },
    {
      "cell_type": "code",
      "source": [
        "'''\n",
        "tfidf_vectors_test = tfidf_transformer.transform(X_tst)\n",
        "tfidf_vectors_test\n",
        "'''"
      ],
      "metadata": {
        "id": "kujiyXPt55CT"
      },
      "execution_count": null,
      "outputs": []
    },
    {
      "cell_type": "code",
      "execution_count": null,
      "metadata": {
        "id": "nRA4RoMMqWhv"
      },
      "outputs": [],
      "source": [
        "import spacy\n",
        "nlp = spacy.load(\"en_core_web_sm\")\n"
      ]
    }
  ]
}