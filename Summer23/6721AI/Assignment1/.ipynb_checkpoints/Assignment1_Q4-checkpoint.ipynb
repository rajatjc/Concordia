{
 "cells": [
  {
   "cell_type": "code",
   "execution_count": 1,
   "metadata": {
    "id": "5HdpVtzdNK08"
   },
   "outputs": [],
   "source": [
    "data = [\n",
    "[\"Sunny\",\"Rich\", \"Yes\", \"Cinema\"],\n",
    "[\"Sunny\",\t\"Rich\",\t\"No\",\t\"Tennis\"],\n",
    "[\"Windy\",\t\"Rich\",\t\"No\",\t\"Cinema\"],\n",
    "[\"Rainy\",\t\"Poor\",\t\"Yes\",\t\"Cinema\"],\n",
    "[\"Rainy\",\t\"Rich\",\t\"No\",\t\"Stay-in\"],\n",
    "[\"Rainy\",\t\"Poor\",\t\"No\",\t\"Cinema\"],\n",
    "[\"Windy\",\t\"Poor\",\t\"Yes\",\t\"Cinema\"],\n",
    "[\"Windy\",\t\"Rich\",\t\"Yes\",\t\"Stay-in\"],\n",
    "[\"Windy\",\t\"Rich\",\t\"No\",\t\"Cinema\"],\n",
    "[\"Sunny\",\t\"Rich\",\t\"No\",\t\"Tennis\"],\n",
    "[\"Sunny\",\t\"Poor\",\t\"Yes\",\t\"Tennis\"],\n",
    "[\"Rainy\",\t\"Rich\",\t\"No\",\t\"Stay-in\"]];\n"
   ]
  },
  {
   "cell_type": "code",
   "execution_count": 2,
   "metadata": {
    "id": "s-14q4cLO2bm"
   },
   "outputs": [
    {
     "name": "stdout",
     "output_type": "stream",
     "text": [
      "   Weather  Cash Exam Decision\n",
      "0    Sunny  Rich  Yes   Cinema\n",
      "1    Sunny  Rich   No   Tennis\n",
      "2    Windy  Rich   No   Cinema\n",
      "3    Rainy  Poor  Yes   Cinema\n",
      "4    Rainy  Rich   No  Stay-in\n",
      "5    Rainy  Poor   No   Cinema\n",
      "6    Windy  Poor  Yes   Cinema\n",
      "7    Windy  Rich  Yes  Stay-in\n",
      "8    Windy  Rich   No   Cinema\n",
      "9    Sunny  Rich   No   Tennis\n",
      "10   Sunny  Poor  Yes   Tennis\n",
      "11   Rainy  Rich   No  Stay-in\n"
     ]
    }
   ],
   "source": [
    "import pandas as pd \n",
    "df = pd.DataFrame(data)\n",
    "df.columns = ['Weather', \t'Cash',\t'Exam',\t'Decision'];\n",
    "print(df)"
   ]
  },
  {
   "cell_type": "code",
   "execution_count": 3,
   "metadata": {
    "id": "Ka1VBFXzPbUL"
   },
   "outputs": [
    {
     "data": {
      "text/html": [
       "<div>\n",
       "<style scoped>\n",
       "    .dataframe tbody tr th:only-of-type {\n",
       "        vertical-align: middle;\n",
       "    }\n",
       "\n",
       "    .dataframe tbody tr th {\n",
       "        vertical-align: top;\n",
       "    }\n",
       "\n",
       "    .dataframe thead th {\n",
       "        text-align: right;\n",
       "    }\n",
       "</style>\n",
       "<table border=\"1\" class=\"dataframe\">\n",
       "  <thead>\n",
       "    <tr style=\"text-align: right;\">\n",
       "      <th></th>\n",
       "      <th>Weather_Rainy</th>\n",
       "      <th>Weather_Sunny</th>\n",
       "      <th>Weather_Windy</th>\n",
       "      <th>Cash_Poor</th>\n",
       "      <th>Cash_Rich</th>\n",
       "      <th>Exam_No</th>\n",
       "      <th>Exam_Yes</th>\n",
       "    </tr>\n",
       "  </thead>\n",
       "  <tbody>\n",
       "    <tr>\n",
       "      <th>0</th>\n",
       "      <td>0</td>\n",
       "      <td>1</td>\n",
       "      <td>0</td>\n",
       "      <td>0</td>\n",
       "      <td>1</td>\n",
       "      <td>0</td>\n",
       "      <td>1</td>\n",
       "    </tr>\n",
       "    <tr>\n",
       "      <th>1</th>\n",
       "      <td>0</td>\n",
       "      <td>1</td>\n",
       "      <td>0</td>\n",
       "      <td>0</td>\n",
       "      <td>1</td>\n",
       "      <td>1</td>\n",
       "      <td>0</td>\n",
       "    </tr>\n",
       "    <tr>\n",
       "      <th>2</th>\n",
       "      <td>0</td>\n",
       "      <td>0</td>\n",
       "      <td>1</td>\n",
       "      <td>0</td>\n",
       "      <td>1</td>\n",
       "      <td>1</td>\n",
       "      <td>0</td>\n",
       "    </tr>\n",
       "    <tr>\n",
       "      <th>3</th>\n",
       "      <td>1</td>\n",
       "      <td>0</td>\n",
       "      <td>0</td>\n",
       "      <td>1</td>\n",
       "      <td>0</td>\n",
       "      <td>0</td>\n",
       "      <td>1</td>\n",
       "    </tr>\n",
       "    <tr>\n",
       "      <th>4</th>\n",
       "      <td>1</td>\n",
       "      <td>0</td>\n",
       "      <td>0</td>\n",
       "      <td>0</td>\n",
       "      <td>1</td>\n",
       "      <td>1</td>\n",
       "      <td>0</td>\n",
       "    </tr>\n",
       "  </tbody>\n",
       "</table>\n",
       "</div>"
      ],
      "text/plain": [
       "   Weather_Rainy  Weather_Sunny  Weather_Windy  Cash_Poor  Cash_Rich  Exam_No  \\\n",
       "0              0              1              0          0          1        0   \n",
       "1              0              1              0          0          1        1   \n",
       "2              0              0              1          0          1        1   \n",
       "3              1              0              0          1          0        0   \n",
       "4              1              0              0          0          1        1   \n",
       "\n",
       "   Exam_Yes  \n",
       "0         1  \n",
       "1         0  \n",
       "2         0  \n",
       "3         1  \n",
       "4         0  "
      ]
     },
     "execution_count": 3,
     "metadata": {},
     "output_type": "execute_result"
    }
   ],
   "source": [
    "df_x = pd.get_dummies(df[['Weather', \t'Cash',\t'Exam']])\n",
    "df_x.head()"
   ]
  },
  {
   "cell_type": "code",
   "execution_count": 4,
   "metadata": {
    "id": "WV8qDZbTSA6l"
   },
   "outputs": [
    {
     "name": "stdout",
     "output_type": "stream",
     "text": [
      "[[0 1 0 0 1 0 1]\n",
      " [0 1 0 0 1 1 0]\n",
      " [0 0 1 0 1 1 0]\n",
      " [1 0 0 1 0 0 1]\n",
      " [1 0 0 0 1 1 0]\n",
      " [1 0 0 1 0 1 0]\n",
      " [0 0 1 1 0 0 1]\n",
      " [0 0 1 0 1 0 1]\n",
      " [0 0 1 0 1 1 0]\n",
      " [0 1 0 0 1 1 0]\n",
      " [0 1 0 1 0 0 1]\n",
      " [1 0 0 0 1 1 0]]\n"
     ]
    }
   ],
   "source": [
    "X= df_x.to_numpy()\n",
    "print(X)"
   ]
  },
  {
   "cell_type": "code",
   "execution_count": 5,
   "metadata": {
    "id": "ikUzq78mPsfz"
   },
   "outputs": [
    {
     "name": "stdout",
     "output_type": "stream",
     "text": [
      "['Cinema', 'Tennis', 'Cinema', 'Cinema', 'Stay-in', 'Cinema', 'Cinema', 'Stay-in', 'Cinema', 'Tennis', 'Tennis', 'Stay-in']\n"
     ]
    }
   ],
   "source": [
    "y = df['Decision'].values.tolist()\n",
    "print(y)"
   ]
  },
  {
   "cell_type": "code",
   "execution_count": 6,
   "metadata": {
    "id": "4egk11q6SRS8"
   },
   "outputs": [
    {
     "name": "stdout",
     "output_type": "stream",
     "text": [
      "Classes =  ['Cinema' 'Stay-in' 'Tennis']\n",
      "Class priors =  [6. 3. 3.]\n",
      "Class priors log =  [-0.69314718 -1.38629436 -1.38629436]\n"
     ]
    }
   ],
   "source": [
    "from sklearn.naive_bayes import MultinomialNB\n",
    "classifier = MultinomialNB()\n",
    "model = classifier.fit(X, y)\n",
    "\n",
    "print(\"Classes = \", model.classes_)\n",
    "print(\"Class priors = \", model.class_count_)\n",
    "print(\"Class priors log = \", model.class_log_prior_)"
   ]
  },
  {
   "cell_type": "code",
   "execution_count": 7,
   "metadata": {
    "id": "P0ED1zweTX-e"
   },
   "outputs": [],
   "source": [
    "# this_weekend Weather_Rainy\tWeather_Sunny\tWeather_Windy\tCash_Poor\tCash_Rich\tExam_No\tExam_Yes\n",
    "# this_weekend     0\t            1\t              0\t       1\t          0\t       1\t       0\n",
    "\n",
    "this_weekend_obs = [[0,1,0,1,0,1,0]]"
   ]
  },
  {
   "cell_type": "code",
   "execution_count": 8,
   "metadata": {
    "id": "T1LkB0WOVGFk"
   },
   "outputs": [
    {
     "name": "stdout",
     "output_type": "stream",
     "text": [
      "Classes =  ['Cinema' 'Stay-in' 'Tennis']\n",
      "Predicted class =  ['Tennis']\n",
      "Predicted class =  [[0.38324082 0.0685288  0.54823039]]\n"
     ]
    }
   ],
   "source": [
    "predict_this_weekend = model.predict(this_weekend_obs)\n",
    "predict_this_weekend_prob = model.predict_proba(this_weekend_obs)\n",
    "\n",
    "print(\"Classes = \", model.classes_)\n",
    "print('Predicted class = ', predict_this_weekend)\n",
    "print('Predicted class = ', predict_this_weekend_prob)"
   ]
  },
  {
   "cell_type": "markdown",
   "metadata": {
    "id": "w7WbNZyqV5C0"
   },
   "source": [
    "c)\tHow the answer will change if you know that your friend is very outgoing, so the prior probabilities that she does any of these three activities are [‘Cinema’: 0.4 , ‘Tennis’: 0.4, ‘Stay-in’: 0.2] (only in the Python code, no need to do manual calculation). "
   ]
  },
  {
   "cell_type": "code",
   "execution_count": 9,
   "metadata": {
    "id": "vQkZdWh8VvNs"
   },
   "outputs": [],
   "source": [
    "classifier2 = MultinomialNB(class_prior=[0.4, 0.2, 0.4])\n",
    "classifier2.classes_=['Cinema', 'Stay-in', 'Tennis']\n",
    "model2 = classifier2.fit(X, y)\n"
   ]
  },
  {
   "cell_type": "code",
   "execution_count": 10,
   "metadata": {
    "id": "Yi8BIkidaYDT"
   },
   "outputs": [
    {
     "data": {
      "text/plain": [
       "'PRINT the predicted class and the predicted probability'"
      ]
     },
     "execution_count": 10,
     "metadata": {},
     "output_type": "execute_result"
    }
   ],
   "source": [
    "predict_this_weekend = model2.predict(this_weekend_obs)\n",
    "predict_this_weekend_prob = model2.predict_proba(this_weekend_obs)\n",
    "\n",
    "'XXXXX ADD YOUR CODE HERE XXXXXXX'\n",
    "'PRINT the predicted class and the predicted probability'"
   ]
  },
  {
   "cell_type": "markdown",
   "metadata": {
    "id": "_RCnf5dTsaaz"
   },
   "source": [
    "To verifiy the answer that we manually calculated, we need to turn-off smoothing."
   ]
  },
  {
   "cell_type": "code",
   "execution_count": 11,
   "metadata": {
    "id": "YjN_IhZqgmsd"
   },
   "outputs": [
    {
     "data": {
      "text/plain": [
       "'Call predict() to predict the class and find the predicted probability. PRINT them.'"
      ]
     },
     "execution_count": 11,
     "metadata": {},
     "output_type": "execute_result"
    }
   ],
   "source": [
    "classifier3 = MultinomialNB()\n",
    "classifier3.set_params(alpha=1.0e-10)\n",
    "model3 = classifier3.fit(X, y)\n",
    "\n",
    "'XXXXX ADD YOUR CODE HERE XXXXXXX'\n",
    "'Call predict() to predict the class and find the predicted probability. PRINT them.'\n",
    "\n"
   ]
  }
 ],
 "metadata": {
  "colab": {
   "provenance": []
  },
  "kernelspec": {
   "display_name": "Python 3 (ipykernel)",
   "language": "python",
   "name": "python3"
  },
  "language_info": {
   "codemirror_mode": {
    "name": "ipython",
    "version": 3
   },
   "file_extension": ".py",
   "mimetype": "text/x-python",
   "name": "python",
   "nbconvert_exporter": "python",
   "pygments_lexer": "ipython3",
   "version": "3.10.7"
  }
 },
 "nbformat": 4,
 "nbformat_minor": 1
}
