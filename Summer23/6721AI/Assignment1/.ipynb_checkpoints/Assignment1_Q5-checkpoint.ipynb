{
 "cells": [
  {
   "cell_type": "code",
   "execution_count": 1,
   "metadata": {
    "id": "szFFMAeuw_IM"
   },
   "outputs": [
    {
     "name": "stdout",
     "output_type": "stream",
     "text": [
      "   Weather  Cash Exam Decision\n",
      "0    Sunny  Rich  Yes   Cinema\n",
      "1    Sunny  Rich   No   Tennis\n",
      "2    Windy  Rich   No   Cinema\n",
      "3    Rainy  Poor  Yes   Cinema\n",
      "4    Rainy  Rich   No  Stay-in\n",
      "5    Rainy  Poor   No   Cinema\n",
      "6    Windy  Poor  Yes   Cinema\n",
      "7    Windy  Rich  Yes  Stay-in\n",
      "8    Windy  Rich   No   Cinema\n",
      "9    Sunny  Rich   No   Tennis\n",
      "10   Sunny  Poor  Yes   Tennis\n",
      "11   Rainy  Rich   No  Stay-in\n"
     ]
    }
   ],
   "source": [
    "data = [\n",
    "[\"Sunny\",\"Rich\", \"Yes\", \"Cinema\"],\n",
    "[\"Sunny\",\t\"Rich\",\t\"No\",\t\"Tennis\"],\n",
    "[\"Windy\",\t\"Rich\",\t\"No\",\t\"Cinema\"],\n",
    "[\"Rainy\",\t\"Poor\",\t\"Yes\",\t\"Cinema\"],\n",
    "[\"Rainy\",\t\"Rich\",\t\"No\",\t\"Stay-in\"],\n",
    "[\"Rainy\",\t\"Poor\",\t\"No\",\t\"Cinema\"],\n",
    "[\"Windy\",\t\"Poor\",\t\"Yes\",\t\"Cinema\"],\n",
    "[\"Windy\",\t\"Rich\",\t\"Yes\",\t\"Stay-in\"],\n",
    "[\"Windy\",\t\"Rich\",\t\"No\",\t\"Cinema\"],\n",
    "[\"Sunny\",\t\"Rich\",\t\"No\",\t\"Tennis\"],\n",
    "[\"Sunny\",\t\"Poor\",\t\"Yes\",\t\"Tennis\"],\n",
    "[\"Rainy\",\t\"Rich\",\t\"No\",\t\"Stay-in\"]];\n",
    "\n",
    "import pandas as pd \n",
    "df = pd.DataFrame(data)\n",
    "df.columns = ['Weather', \t'Cash',\t'Exam',\t'Decision'];\n",
    "print(df)\n"
   ]
  },
  {
   "cell_type": "code",
   "execution_count": 2,
   "metadata": {
    "id": "5c0krqcRxGH7"
   },
   "outputs": [
    {
     "data": {
      "text/html": [
       "<div>\n",
       "<style scoped>\n",
       "    .dataframe tbody tr th:only-of-type {\n",
       "        vertical-align: middle;\n",
       "    }\n",
       "\n",
       "    .dataframe tbody tr th {\n",
       "        vertical-align: top;\n",
       "    }\n",
       "\n",
       "    .dataframe thead th {\n",
       "        text-align: right;\n",
       "    }\n",
       "</style>\n",
       "<table border=\"1\" class=\"dataframe\">\n",
       "  <thead>\n",
       "    <tr style=\"text-align: right;\">\n",
       "      <th></th>\n",
       "      <th>Weather_Rainy</th>\n",
       "      <th>Weather_Sunny</th>\n",
       "      <th>Weather_Windy</th>\n",
       "      <th>Cash_Poor</th>\n",
       "      <th>Cash_Rich</th>\n",
       "      <th>Exam_No</th>\n",
       "      <th>Exam_Yes</th>\n",
       "    </tr>\n",
       "  </thead>\n",
       "  <tbody>\n",
       "    <tr>\n",
       "      <th>0</th>\n",
       "      <td>0</td>\n",
       "      <td>1</td>\n",
       "      <td>0</td>\n",
       "      <td>0</td>\n",
       "      <td>1</td>\n",
       "      <td>0</td>\n",
       "      <td>1</td>\n",
       "    </tr>\n",
       "    <tr>\n",
       "      <th>1</th>\n",
       "      <td>0</td>\n",
       "      <td>1</td>\n",
       "      <td>0</td>\n",
       "      <td>0</td>\n",
       "      <td>1</td>\n",
       "      <td>1</td>\n",
       "      <td>0</td>\n",
       "    </tr>\n",
       "    <tr>\n",
       "      <th>2</th>\n",
       "      <td>0</td>\n",
       "      <td>0</td>\n",
       "      <td>1</td>\n",
       "      <td>0</td>\n",
       "      <td>1</td>\n",
       "      <td>1</td>\n",
       "      <td>0</td>\n",
       "    </tr>\n",
       "    <tr>\n",
       "      <th>3</th>\n",
       "      <td>1</td>\n",
       "      <td>0</td>\n",
       "      <td>0</td>\n",
       "      <td>1</td>\n",
       "      <td>0</td>\n",
       "      <td>0</td>\n",
       "      <td>1</td>\n",
       "    </tr>\n",
       "    <tr>\n",
       "      <th>4</th>\n",
       "      <td>1</td>\n",
       "      <td>0</td>\n",
       "      <td>0</td>\n",
       "      <td>0</td>\n",
       "      <td>1</td>\n",
       "      <td>1</td>\n",
       "      <td>0</td>\n",
       "    </tr>\n",
       "  </tbody>\n",
       "</table>\n",
       "</div>"
      ],
      "text/plain": [
       "   Weather_Rainy  Weather_Sunny  Weather_Windy  Cash_Poor  Cash_Rich  Exam_No  \\\n",
       "0              0              1              0          0          1        0   \n",
       "1              0              1              0          0          1        1   \n",
       "2              0              0              1          0          1        1   \n",
       "3              1              0              0          1          0        0   \n",
       "4              1              0              0          0          1        1   \n",
       "\n",
       "   Exam_Yes  \n",
       "0         1  \n",
       "1         0  \n",
       "2         0  \n",
       "3         1  \n",
       "4         0  "
      ]
     },
     "execution_count": 2,
     "metadata": {},
     "output_type": "execute_result"
    }
   ],
   "source": [
    "df_x = pd.get_dummies(df[['Weather', \t'Cash',\t'Exam']])\n",
    "df_x.head()"
   ]
  },
  {
   "cell_type": "code",
   "execution_count": 3,
   "metadata": {
    "id": "KWivuTqDxLOe"
   },
   "outputs": [
    {
     "name": "stdout",
     "output_type": "stream",
     "text": [
      "[[0 1 0 0 1 0 1]\n",
      " [0 1 0 0 1 1 0]\n",
      " [0 0 1 0 1 1 0]\n",
      " [1 0 0 1 0 0 1]\n",
      " [1 0 0 0 1 1 0]\n",
      " [1 0 0 1 0 1 0]\n",
      " [0 0 1 1 0 0 1]\n",
      " [0 0 1 0 1 0 1]\n",
      " [0 0 1 0 1 1 0]\n",
      " [0 1 0 0 1 1 0]\n",
      " [0 1 0 1 0 0 1]\n",
      " [1 0 0 0 1 1 0]]\n"
     ]
    }
   ],
   "source": [
    "X= df_x.to_numpy()\n",
    "print(X)"
   ]
  },
  {
   "cell_type": "code",
   "execution_count": 4,
   "metadata": {
    "id": "EgT6bKCTxN-r"
   },
   "outputs": [
    {
     "name": "stdout",
     "output_type": "stream",
     "text": [
      "['Cinema', 'Tennis', 'Cinema', 'Cinema', 'Stay-in', 'Cinema', 'Cinema', 'Stay-in', 'Cinema', 'Tennis', 'Tennis', 'Stay-in']\n"
     ]
    }
   ],
   "source": [
    "y = df['Decision'].values.tolist()\n",
    "print(y)"
   ]
  },
  {
   "cell_type": "code",
   "execution_count": 5,
   "metadata": {
    "id": "cuoQNO17w5wk"
   },
   "outputs": [
    {
     "data": {
      "text/plain": [
       "[Text(0.5, 0.75, 'x[1] <= 0.5\\nentropy = 1.5\\nsamples = 12\\nvalue = [6, 3, 3]'),\n",
       " Text(0.25, 0.25, 'entropy = 0.954\\nsamples = 8\\nvalue = [5, 3, 0]'),\n",
       " Text(0.75, 0.25, 'entropy = 0.811\\nsamples = 4\\nvalue = [1, 0, 3]')]"
      ]
     },
     "execution_count": 5,
     "metadata": {},
     "output_type": "execute_result"
    },
    {
     "data": {
      "image/png": "[encoded data removed]",
      "text/plain": [
       "<Figure size 640x480 with 1 Axes>"
      ]
     },
     "metadata": {},
     "output_type": "display_data"
    }
   ],
   "source": [
    "from sklearn import tree\n",
    "from sklearn.datasets import load_iris\n",
    "from sklearn.model_selection import train_test_split\n",
    "\n",
    "# create and print the decision tree\n",
    "dtc = tree.DecisionTreeClassifier(criterion=\"entropy\", max_depth=1) \n",
    "dtc.fit(X, y) \n",
    "tree.plot_tree(dtc) "
   ]
  },
  {
   "cell_type": "code",
   "execution_count": 6,
   "metadata": {
    "id": "kOtUEnvu32Xx"
   },
   "outputs": [],
   "source": [
    "X_test = [[0,1,0,1,0,1,0]]"
   ]
  },
  {
   "cell_type": "code",
   "execution_count": 7,
   "metadata": {
    "id": "j3ugJinaxp9W"
   },
   "outputs": [
    {
     "name": "stdout",
     "output_type": "stream",
     "text": [
      "['Tennis']\n"
     ]
    }
   ],
   "source": [
    "# Evaluate classifier\n",
    "y_pred = dtc.predict(X_test)\n",
    "print(y_pred)\n"
   ]
  },
  {
   "cell_type": "code",
   "execution_count": 8,
   "metadata": {
    "id": "lxPDHkHt5FPz"
   },
   "outputs": [
    {
     "name": "stdout",
     "output_type": "stream",
     "text": [
      "[[0.25 0.   0.75]]\n"
     ]
    }
   ],
   "source": [
    "prob_y_pred = dtc.predict_proba(X_test)\n",
    "print(prob_y_pred)"
   ]
  }
 ],
 "metadata": {
  "colab": {
   "provenance": []
  },
  "kernelspec": {
   "display_name": "Python 3 (ipykernel)",
   "language": "python",
   "name": "python3"
  },
  "language_info": {
   "codemirror_mode": {
    "name": "ipython",
    "version": 3
   },
   "file_extension": ".py",
   "mimetype": "text/x-python",
   "name": "python",
   "nbconvert_exporter": "python",
   "pygments_lexer": "ipython3",
   "version": "3.10.7"
  }
 },
 "nbformat": 4,
 "nbformat_minor": 1
}
